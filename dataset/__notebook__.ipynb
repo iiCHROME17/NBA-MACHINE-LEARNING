{
 "cells": [
  {
   "cell_type": "code",
   "execution_count": 1,
   "id": "cd39ec05",
   "metadata": {
    "execution": {
     "iopub.execute_input": "2025-04-06T20:34:22.561036Z",
     "iopub.status.busy": "2025-04-06T20:34:22.560545Z",
     "iopub.status.idle": "2025-04-06T20:34:23.530330Z",
     "shell.execute_reply": "2025-04-06T20:34:23.529167Z"
    },
    "papermill": {
     "duration": 0.977048,
     "end_time": "2025-04-06T20:34:23.532763",
     "exception": false,
     "start_time": "2025-04-06T20:34:22.555715",
     "status": "completed"
    },
    "tags": []
   },
   "outputs": [],
   "source": [
    "import numpy as np # linear algebra\n",
    "import pandas as pd # data processing, CSV file I/O (e.g. pd.read_csv)\n",
    "import time # TIME PROCESSING\n",
    "import os # LOADING & EXPORTING DATA\n",
    "import datetime\n",
    "from kaggle_secrets import UserSecretsClient"
   ]
  },
  {
   "cell_type": "code",
   "execution_count": 2,
   "id": "b0bad0e2",
   "metadata": {
    "execution": {
     "iopub.execute_input": "2025-04-06T20:34:23.541021Z",
     "iopub.status.busy": "2025-04-06T20:34:23.540437Z",
     "iopub.status.idle": "2025-04-06T20:34:30.816703Z",
     "shell.execute_reply": "2025-04-06T20:34:30.815194Z"
    },
    "papermill": {
     "duration": 7.282739,
     "end_time": "2025-04-06T20:34:30.819044",
     "exception": false,
     "start_time": "2025-04-06T20:34:23.536305",
     "status": "completed"
    },
    "tags": []
   },
   "outputs": [
    {
     "name": "stdout",
     "output_type": "stream",
     "text": [
      "Collecting nba_api\r\n",
      "  Downloading nba_api-1.9.0-py3-none-any.whl.metadata (5.8 kB)\r\n"
     ]
    },
    {
     "name": "stdout",
     "output_type": "stream",
     "text": [
      "Requirement already satisfied: numpy>=1.26.0 in /usr/local/lib/python3.10/dist-packages (from nba_api) (1.26.4)\r\n",
      "Requirement already satisfied: pandas>=2.1.0 in /usr/local/lib/python3.10/dist-packages (from nba_api) (2.1.4)\r\n",
      "Requirement already satisfied: requests<3.0.0,>=2.32.3 in /usr/local/lib/python3.10/dist-packages (from nba_api) (2.32.3)\r\n"
     ]
    },
    {
     "name": "stdout",
     "output_type": "stream",
     "text": [
      "Requirement already satisfied: python-dateutil>=2.8.2 in /usr/local/lib/python3.10/dist-packages (from pandas>=2.1.0->nba_api) (2.8.2)\r\n",
      "Requirement already satisfied: pytz>=2020.1 in /usr/local/lib/python3.10/dist-packages (from pandas>=2.1.0->nba_api) (2024.2)\r\n",
      "Requirement already satisfied: tzdata>=2022.1 in /usr/local/lib/python3.10/dist-packages (from pandas>=2.1.0->nba_api) (2024.1)\r\n",
      "Requirement already satisfied: charset-normalizer<4,>=2 in /usr/local/lib/python3.10/dist-packages (from requests<3.0.0,>=2.32.3->nba_api) (3.3.2)\r\n",
      "Requirement already satisfied: idna<4,>=2.5 in /usr/local/lib/python3.10/dist-packages (from requests<3.0.0,>=2.32.3->nba_api) (3.10)\r\n",
      "Requirement already satisfied: urllib3<3,>=1.21.1 in /usr/local/lib/python3.10/dist-packages (from requests<3.0.0,>=2.32.3->nba_api) (2.2.3)\r\n",
      "Requirement already satisfied: certifi>=2017.4.17 in /usr/local/lib/python3.10/dist-packages (from requests<3.0.0,>=2.32.3->nba_api) (2024.8.30)\r\n",
      "Requirement already satisfied: six>=1.5 in /usr/local/lib/python3.10/dist-packages (from python-dateutil>=2.8.2->pandas>=2.1.0->nba_api) (1.16.0)\r\n",
      "Downloading nba_api-1.9.0-py3-none-any.whl (284 kB)\r\n",
      "\u001b[?25l   \u001b[90m━━━━━━━━━━━━━━━━━━━━━━━━━━━━━━━━━━━━━━━━\u001b[0m \u001b[32m0.0/284.9 kB\u001b[0m \u001b[31m?\u001b[0m eta \u001b[36m-:--:--\u001b[0m"
     ]
    },
    {
     "name": "stdout",
     "output_type": "stream",
     "text": [
      "\r",
      "\u001b[2K   \u001b[90m━━━━━━━━━━━━━━━━━━━━━━━━━━━━━━━━━━━━━━━━\u001b[0m \u001b[32m284.9/284.9 kB\u001b[0m \u001b[31m9.5 MB/s\u001b[0m eta \u001b[36m0:00:00\u001b[0m\r\n",
      "\u001b[?25h"
     ]
    },
    {
     "name": "stdout",
     "output_type": "stream",
     "text": [
      "Installing collected packages: nba_api\r\n"
     ]
    },
    {
     "name": "stdout",
     "output_type": "stream",
     "text": [
      "Successfully installed nba_api-1.9.0\r\n"
     ]
    }
   ],
   "source": [
    "!pip install nba_api\n",
    "from nba_api.stats.static import players, teams\n",
    "from nba_api.stats.endpoints import teamgamelog, playergamelog"
   ]
  },
  {
   "cell_type": "code",
   "execution_count": 3,
   "id": "090d8a07",
   "metadata": {
    "execution": {
     "iopub.execute_input": "2025-04-06T20:34:30.828293Z",
     "iopub.status.busy": "2025-04-06T20:34:30.827778Z",
     "iopub.status.idle": "2025-04-06T20:34:31.325087Z",
     "shell.execute_reply": "2025-04-06T20:34:31.323426Z"
    },
    "papermill": {
     "duration": 0.504212,
     "end_time": "2025-04-06T20:34:31.327326",
     "exception": false,
     "start_time": "2025-04-06T20:34:30.823114",
     "status": "completed"
    },
    "tags": []
   },
   "outputs": [],
   "source": [
    "if os.path.exists('/root/.kaggle/'):\n",
    "    pass\n",
    "else:\n",
    "    os.mkdir('/root/.kaggle/')\n",
    "\n",
    "user_secrets = UserSecretsClient()\n",
    "secret_value_key = user_secrets.get_secret(\"kaggle_key\")\n",
    "secret_value_user = user_secrets.get_secret(\"kaggle_username\")\n",
    "\n",
    "with open('/root/.kaggle/kaggle.json', 'w') as fid:\n",
    "    fid.writelines(f'{{\"username\":\"{secret_value_user}\",\"key\":\"{secret_value_key}\"}}')\n",
    "\n",
    "!chmod 600 /root/.kaggle/kaggle.json"
   ]
  },
  {
   "cell_type": "code",
   "execution_count": 4,
   "id": "c1e8d9ba",
   "metadata": {
    "execution": {
     "iopub.execute_input": "2025-04-06T20:34:31.336041Z",
     "iopub.status.busy": "2025-04-06T20:34:31.335523Z",
     "iopub.status.idle": "2025-04-06T20:34:31.375161Z",
     "shell.execute_reply": "2025-04-06T20:34:31.374009Z"
    },
    "papermill": {
     "duration": 0.046401,
     "end_time": "2025-04-06T20:34:31.377282",
     "exception": false,
     "start_time": "2025-04-06T20:34:31.330881",
     "status": "completed"
    },
    "tags": []
   },
   "outputs": [],
   "source": [
    "dict_players = players.get_players()\n",
    "df_players = pd.DataFrame(dict_players)\n",
    "df_players.to_csv('/kaggle/working/NBA_PLAYERS.csv', index=False)"
   ]
  },
  {
   "cell_type": "code",
   "execution_count": 5,
   "id": "c93b7bcc",
   "metadata": {
    "execution": {
     "iopub.execute_input": "2025-04-06T20:34:31.385853Z",
     "iopub.status.busy": "2025-04-06T20:34:31.385435Z",
     "iopub.status.idle": "2025-04-06T20:34:31.393319Z",
     "shell.execute_reply": "2025-04-06T20:34:31.392200Z"
    },
    "papermill": {
     "duration": 0.014488,
     "end_time": "2025-04-06T20:34:31.395434",
     "exception": false,
     "start_time": "2025-04-06T20:34:31.380946",
     "status": "completed"
    },
    "tags": []
   },
   "outputs": [],
   "source": [
    "dict_teams = teams.get_teams()\n",
    "df_teams = pd.DataFrame(dict_teams)\n",
    "df_teams.to_csv('/kaggle/working/NBA_TEAMS.csv', index=False)"
   ]
  },
  {
   "cell_type": "code",
   "execution_count": 6,
   "id": "b6df36af",
   "metadata": {
    "execution": {
     "iopub.execute_input": "2025-04-06T20:34:31.403960Z",
     "iopub.status.busy": "2025-04-06T20:34:31.403502Z",
     "iopub.status.idle": "2025-04-06T20:34:31.408347Z",
     "shell.execute_reply": "2025-04-06T20:34:31.407236Z"
    },
    "papermill": {
     "duration": 0.011229,
     "end_time": "2025-04-06T20:34:31.410340",
     "exception": false,
     "start_time": "2025-04-06T20:34:31.399111",
     "status": "completed"
    },
    "tags": []
   },
   "outputs": [],
   "source": [
    "str_today_date = datetime.date.today().strftime('%Y-%m-%d')"
   ]
  },
  {
   "cell_type": "code",
   "execution_count": 7,
   "id": "d0d0bf16",
   "metadata": {
    "execution": {
     "iopub.execute_input": "2025-04-06T20:34:31.419011Z",
     "iopub.status.busy": "2025-04-06T20:34:31.418508Z",
     "iopub.status.idle": "2025-04-06T20:44:37.035346Z",
     "shell.execute_reply": "2025-04-06T20:44:37.033996Z"
    },
    "papermill": {
     "duration": 605.626511,
     "end_time": "2025-04-06T20:44:37.040503",
     "exception": false,
     "start_time": "2025-04-06T20:34:31.413992",
     "status": "completed"
    },
    "tags": []
   },
   "outputs": [
    {
     "name": "stderr",
     "output_type": "stream",
     "text": [
      "<ipython-input-7-44106445e0ed>:15: FutureWarning: The behavior of DataFrame concatenation with empty or all-NA entries is deprecated. In a future version, this will no longer exclude empty or all-NA columns when determining the result dtypes. To retain the old behavior, exclude the relevant entries before the concat operation.\n",
      "  df_games = pd.concat([df_games,df_game])\n"
     ]
    }
   ],
   "source": [
    "list_nba_team_ids = df_teams['id'].drop_duplicates().tolist()\n",
    "\n",
    "list_df_games = []\n",
    "\n",
    "for team_id in list_nba_team_ids:\n",
    "    time.sleep(20)\n",
    "    xx = teamgamelog.TeamGameLog(team_id=team_id)\n",
    "    df_team_games = xx.get_data_frames()[0]\n",
    "    list_df_games.append(df_team_games)\n",
    "\n",
    "\n",
    "df_games = pd.DataFrame(columns = list_df_games[0].columns)\n",
    "\n",
    "for df_game in list_df_games:\n",
    "    df_games = pd.concat([df_games,df_game])\n",
    "\n",
    "df_games['DATE_ADDED'] = str_today_date\n",
    "df_games.to_csv('/kaggle/working/NBA_GAMES.csv', index=False)"
   ]
  },
  {
   "cell_type": "code",
   "execution_count": 8,
   "id": "79de5ce1",
   "metadata": {
    "execution": {
     "iopub.execute_input": "2025-04-06T20:44:37.049316Z",
     "iopub.status.busy": "2025-04-06T20:44:37.048928Z",
     "iopub.status.idle": "2025-04-06T23:56:59.693453Z",
     "shell.execute_reply": "2025-04-06T23:56:59.692393Z"
    },
    "papermill": {
     "duration": 11542.651678,
     "end_time": "2025-04-06T23:56:59.695797",
     "exception": false,
     "start_time": "2025-04-06T20:44:37.044119",
     "status": "completed"
    },
    "tags": []
   },
   "outputs": [
    {
     "name": "stderr",
     "output_type": "stream",
     "text": [
      "<ipython-input-8-bd7d4f617cba>:14: FutureWarning: The behavior of DataFrame concatenation with empty or all-NA entries is deprecated. In a future version, this will no longer exclude empty or all-NA columns when determining the result dtypes. To retain the old behavior, exclude the relevant entries before the concat operation.\n",
      "  df_player_games = pd.concat([df_player_games,df_player_game])\n"
     ]
    }
   ],
   "source": [
    "list_nba_player_ids = pd.DataFrame(players.get_active_players())['id'].drop_duplicates().tolist()\n",
    "\n",
    "list_df_player_games = []\n",
    "\n",
    "for player_id in list_nba_player_ids:\n",
    "    time.sleep(20)\n",
    "    xx = playergamelog.PlayerGameLog(player_id=player_id)\n",
    "    df_player_games = xx.get_data_frames()[0]\n",
    "    list_df_player_games.append(df_player_games)\n",
    "\n",
    "df_player_games = pd.DataFrame(columns = list_df_player_games[0].columns)\n",
    "\n",
    "for df_player_game in list_df_player_games:\n",
    "    df_player_games = pd.concat([df_player_games,df_player_game])\n",
    "df_player_games['DATE_ADDED'] = str_today_date\n",
    "df_player_games.to_csv('/kaggle/working/NBA_PLAYER_GAMES.csv', index=False)"
   ]
  },
  {
   "cell_type": "code",
   "execution_count": 9,
   "id": "eb4df65e",
   "metadata": {
    "execution": {
     "iopub.execute_input": "2025-04-06T23:56:59.704661Z",
     "iopub.status.busy": "2025-04-06T23:56:59.704233Z",
     "iopub.status.idle": "2025-04-06T23:56:59.709737Z",
     "shell.execute_reply": "2025-04-06T23:56:59.708708Z"
    },
    "papermill": {
     "duration": 0.011775,
     "end_time": "2025-04-06T23:56:59.711475",
     "exception": false,
     "start_time": "2025-04-06T23:56:59.699700",
     "status": "completed"
    },
    "tags": []
   },
   "outputs": [],
   "source": [
    "with open('/kaggle/working/dataset-metadata.json', 'w') as json_fid:\n",
    "    json_fid.write('{\\n  \"title\": \"Update NBA_DATA\",\\n  \"id\": \"salikhussaini49/nba-data\",\\n  \"licenses\": [{\"name\": \"CC0-1.0\"}]}')"
   ]
  },
  {
   "cell_type": "code",
   "execution_count": null,
   "id": "f0d0e149",
   "metadata": {
    "execution": {
     "iopub.execute_input": "2025-01-01T20:27:22.480951Z",
     "iopub.status.busy": "2025-01-01T20:27:22.480622Z",
     "iopub.status.idle": "2025-01-01T20:27:24.995943Z",
     "shell.execute_reply": "2025-01-01T20:27:24.99498Z",
     "shell.execute_reply.started": "2025-01-01T20:27:22.480923Z"
    },
    "papermill": {
     "duration": null,
     "end_time": null,
     "exception": false,
     "start_time": "2025-04-06T23:56:59.715241",
     "status": "running"
    },
    "tags": []
   },
   "outputs": [],
   "source": [
    "!kaggle datasets version -m new"
   ]
  }
 ],
 "metadata": {
  "kaggle": {
   "accelerator": "none",
   "dataSources": [
    {
     "datasetId": 6409594,
     "sourceId": 10365735,
     "sourceType": "datasetVersion"
    }
   ],
   "dockerImageVersionId": 30822,
   "isGpuEnabled": false,
   "isInternetEnabled": true,
   "language": "python",
   "sourceType": "notebook"
  },
  "kernelspec": {
   "display_name": "Python 3",
   "language": "python",
   "name": "python3"
  },
  "language_info": {
   "codemirror_mode": {
    "name": "ipython",
    "version": 3
   },
   "file_extension": ".py",
   "mimetype": "text/x-python",
   "name": "python",
   "nbconvert_exporter": "python",
   "pygments_lexer": "ipython3",
   "version": "3.10.12"
  },
  "papermill": {
   "default_parameters": {},
   "duration": null,
   "end_time": null,
   "environment_variables": {},
   "exception": null,
   "input_path": "__notebook__.ipynb",
   "output_path": "__notebook__.ipynb",
   "parameters": {},
   "start_time": "2025-04-06T20:34:19.379972",
   "version": "2.6.0"
  }
 },
 "nbformat": 4,
 "nbformat_minor": 5
}